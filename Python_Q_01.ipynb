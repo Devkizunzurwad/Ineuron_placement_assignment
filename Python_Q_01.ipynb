{
 "cells": [
  {
   "cell_type": "markdown",
   "id": "d2598858",
   "metadata": {},
   "source": [
    "Write a program that takes a string as input, and counts the frequency of each word in the string, there might\n",
    "be repeated characters in the string. Your task is to find the highest frequency and returns the length of the\n",
    "highest-frequency word.\n",
    "\n",
    "Note - You have to write at least 2 additional test cases in which your program will run successfully and provide\n",
    "an explanation for the same.\n",
    "Example input - string = “write write write all the number from from from 1 to 100”\n",
    "Example output - 5\n",
    "Explanation - From the given string we can note that the most frequent words are “write” and “from” and\n",
    "the maximum value of both the values is “write” and its corresponding length is 5"
   ]
  },
  {
   "cell_type": "code",
   "execution_count": 1,
   "id": "afab95ed",
   "metadata": {},
   "outputs": [
    {
     "name": "stdout",
     "output_type": "stream",
     "text": [
      "5\n"
     ]
    }
   ],
   "source": [
    "def find_highest_frequency_word_length(string):\n",
    "    word_frequency = {}\n",
    "    words = string.split()\n",
    "\n",
    "    for word in words:\n",
    "        word_frequency[word] = word_frequency.get(word, 0) + 1\n",
    "\n",
    "    max_frequency = max(word_frequency.values())\n",
    "    highest_frequency_word = [word for word, frequency in word_frequency.items() if frequency == max_frequency]\n",
    "    \n",
    "    return len(highest_frequency_word[0])\n",
    "\n",
    "# Example usage\n",
    "string = \"write write write all the number from from from 1 to 100\"\n",
    "result = find_highest_frequency_word_length(string)\n",
    "print(result)\n"
   ]
  },
  {
   "cell_type": "code",
   "execution_count": 2,
   "id": "8e4bff1a",
   "metadata": {},
   "outputs": [
    {
     "name": "stdout",
     "output_type": "stream",
     "text": [
      "3\n"
     ]
    }
   ],
   "source": [
    "string = \"aaa bbb ccc aaa aaa aaa\"\n",
    "result = find_highest_frequency_word_length(string)\n",
    "print(result)"
   ]
  },
  {
   "cell_type": "code",
   "execution_count": 4,
   "id": "ab46f03e",
   "metadata": {},
   "outputs": [
    {
     "name": "stdout",
     "output_type": "stream",
     "text": [
      "3\n"
     ]
    }
   ],
   "source": [
    "string = \"you you you can can can can do it\"\n",
    "result = find_highest_frequency_word_length(string)\n",
    "print(result)"
   ]
  },
  {
   "cell_type": "code",
   "execution_count": null,
   "id": "13273f49",
   "metadata": {},
   "outputs": [],
   "source": []
  }
 ],
 "metadata": {
  "kernelspec": {
   "display_name": "Python 3 (ipykernel)",
   "language": "python",
   "name": "python3"
  },
  "language_info": {
   "codemirror_mode": {
    "name": "ipython",
    "version": 3
   },
   "file_extension": ".py",
   "mimetype": "text/x-python",
   "name": "python",
   "nbconvert_exporter": "python",
   "pygments_lexer": "ipython3",
   "version": "3.10.9"
  }
 },
 "nbformat": 4,
 "nbformat_minor": 5
}
