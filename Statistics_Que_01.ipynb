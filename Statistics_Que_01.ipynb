{
 "cells": [
  {
   "cell_type": "markdown",
   "id": "38da89b0",
   "metadata": {},
   "source": [
    "Q-1. A university wants to understand the relationship between the SAT scores of its\n",
    "applicants and their college GPA. They collect data on 500 students, including their SAT\n",
    "scores (out of 1600) and their college GPA (on a 4.0 scale). They find that the correlation\n",
    "coefficient between SAT scores and college GPA is 0.7. What does this correlation\n",
    "coefficient indicate about the relationship between SAT scores and college GPA?"
   ]
  },
  {
   "cell_type": "markdown",
   "id": "9f3fc17e",
   "metadata": {},
   "source": [
    "ANS:\n",
    "As we can see that we have two features in our dataset. One is SAT scores and the other is Collage GPA. The Correlation between SAT scores and Collage GPA is 0.7.\n",
    "The correlation coefficient ranges from -1 to +1, where -1 indicates a perfect negative correlation, 0 indicates no correlation, and +1 indicates a perfect positive correlation. In this case, a correlation coefficient of 0.7 suggests a relatively strong positive correlation.\n",
    "here is a strong association between SAT scores and college GPA,which indicates that we have positive correlation between SAT scores and Collage GPA. "
   ]
  }
 ],
 "metadata": {
  "kernelspec": {
   "display_name": "Python 3 (ipykernel)",
   "language": "python",
   "name": "python3"
  },
  "language_info": {
   "codemirror_mode": {
    "name": "ipython",
    "version": 3
   },
   "file_extension": ".py",
   "mimetype": "text/x-python",
   "name": "python",
   "nbconvert_exporter": "python",
   "pygments_lexer": "ipython3",
   "version": "3.10.9"
  }
 },
 "nbformat": 4,
 "nbformat_minor": 5
}
