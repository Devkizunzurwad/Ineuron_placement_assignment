{
 "cells": [
  {
   "cell_type": "code",
   "execution_count": null,
   "id": "1710d931",
   "metadata": {},
   "outputs": [],
   "source": [
    "Question 2: -\n",
    "Consider a string to be valid if all characters of the string appear the same number of times. It is also valid if\n",
    "he can remove just one character at the index in the string, and the remaining characters will occur the same\n",
    "number of times. Given a string, determine if it is valid. If so, return YES , otherwise return NO .\n",
    "\n",
    "Note - You have to write at least 2 additional test cases in which your program will run successfully and provide\n",
    "an explanation for the same.\n",
    "Example input 1 - s = “abc”. This is a valid string because frequencies are { “a”: 1, “b”: 1, “c”: 1 }\n",
    "Example output 1- YES\n",
    "Example input 2 - s “abcc”. This string is not valid as we can remove only 1 occurrence of “c”. That leaves\n",
    "character frequencies of { “a”: 1, “b”: 1 , “c”: 2 }\n",
    "Example output 2 - NO"
   ]
  },
  {
   "cell_type": "code",
   "execution_count": 1,
   "id": "fd4f74b9",
   "metadata": {},
   "outputs": [],
   "source": [
    "def is_valid_string(s):\n",
    "    char_counts = {}\n",
    "    for char in s:\n",
    "        char_counts[char] = char_counts.get(char, 0) + 1\n",
    "\n",
    "    counts = list(char_counts.values())\n",
    "    unique_counts = set(counts)\n",
    "\n",
    "    if len(unique_counts) == 1:\n",
    "        # All characters have the same count\n",
    "        return \"YES\"\n",
    "    elif len(unique_counts) == 2:\n",
    "        count1, count2 = unique_counts\n",
    "        if counts.count(count1) == 1 and (count1 - 1 == count2 or count2 - 1 == count1):\n",
    "            # One character can be removed to make all counts the same\n",
    "            return \"YES\"\n",
    "\n",
    "    return \"NO\"\n"
   ]
  },
  {
   "cell_type": "code",
   "execution_count": 2,
   "id": "e680131e",
   "metadata": {},
   "outputs": [
    {
     "name": "stdout",
     "output_type": "stream",
     "text": [
      "YES\n"
     ]
    }
   ],
   "source": [
    "s1 = \"abc\"\n",
    "result1 = is_valid_string(s1)\n",
    "print(result1) "
   ]
  },
  {
   "cell_type": "code",
   "execution_count": 3,
   "id": "aaf71bd8",
   "metadata": {},
   "outputs": [
    {
     "name": "stdout",
     "output_type": "stream",
     "text": [
      "NO\n"
     ]
    }
   ],
   "source": [
    "s2 = \"abcc\"\n",
    "result2 = is_valid_string(s2)\n",
    "print(result2)"
   ]
  },
  {
   "cell_type": "code",
   "execution_count": 4,
   "id": "8ec2155b",
   "metadata": {},
   "outputs": [
    {
     "name": "stdout",
     "output_type": "stream",
     "text": [
      "YES\n"
     ]
    }
   ],
   "source": [
    "s3 = \"aabbcc\"\n",
    "result3 = is_valid_string(s3)\n",
    "print(result3)"
   ]
  },
  {
   "cell_type": "code",
   "execution_count": null,
   "id": "f9b54d73",
   "metadata": {},
   "outputs": [],
   "source": []
  }
 ],
 "metadata": {
  "kernelspec": {
   "display_name": "Python 3 (ipykernel)",
   "language": "python",
   "name": "python3"
  },
  "language_info": {
   "codemirror_mode": {
    "name": "ipython",
    "version": 3
   },
   "file_extension": ".py",
   "mimetype": "text/x-python",
   "name": "python",
   "nbconvert_exporter": "python",
   "pygments_lexer": "ipython3",
   "version": "3.10.9"
  }
 },
 "nbformat": 4,
 "nbformat_minor": 5
}
