{
 "cells": [
  {
   "cell_type": "markdown",
   "id": "d956fd08",
   "metadata": {},
   "source": [
    "Q-4. A group of 20 friends decide to play a game in which they each write a number\n",
    "between 1 and 20 on a slip of paper and put it into a hat. They then draw one slip of paper\n",
    "at random. What is the probability that the number on the slip of paper is a perfect square\n",
    "(i.e., 1, 4, 9, or 16)?"
   ]
  },
  {
   "cell_type": "code",
   "execution_count": null,
   "id": "295e650e",
   "metadata": {},
   "outputs": [],
   "source": [
    "the probability of the number betweeb 1 to 20 is:"
   ]
  },
  {
   "cell_type": "code",
   "execution_count": null,
   "id": "95dc6c5e",
   "metadata": {},
   "outputs": [],
   "source": []
  },
  {
   "cell_type": "code",
   "execution_count": 1,
   "id": "ce5f8788",
   "metadata": {},
   "outputs": [
    {
     "name": "stdout",
     "output_type": "stream",
     "text": [
      "The probability that the number on the slip of paper is perfect square number is: 0.2\n"
     ]
    }
   ],
   "source": [
    "total_numbers = 20\n",
    "perfect_squares = [1, 4, 9, 16]\n",
    "\n",
    "probability = len(perfect_squares) / total_numbers\n",
    "\n",
    "# Print the result\n",
    "print(\"The probability that the number on the slip of paper is perfect square number is:\", probability)\n"
   ]
  },
  {
   "cell_type": "code",
   "execution_count": null,
   "id": "a55d6982",
   "metadata": {},
   "outputs": [],
   "source": []
  }
 ],
 "metadata": {
  "kernelspec": {
   "display_name": "Python 3 (ipykernel)",
   "language": "python",
   "name": "python3"
  },
  "language_info": {
   "codemirror_mode": {
    "name": "ipython",
    "version": 3
   },
   "file_extension": ".py",
   "mimetype": "text/x-python",
   "name": "python",
   "nbconvert_exporter": "python",
   "pygments_lexer": "ipython3",
   "version": "3.10.9"
  }
 },
 "nbformat": 4,
 "nbformat_minor": 5
}
