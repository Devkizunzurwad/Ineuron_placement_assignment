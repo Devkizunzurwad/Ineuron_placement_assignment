{
 "cells": [
  {
   "cell_type": "code",
   "execution_count": null,
   "id": "1d98af98",
   "metadata": {},
   "outputs": [],
   "source": [
    "Q-5. A certain city has two taxi companies: Company A has 80% of the taxis and\n",
    "Company B has 20% of the taxis. Company A's taxis have a 95% success rate for picking\n",
    "up passengers on time, while Company B's taxis have a 90% success rate. If a randomly\n",
    "selected taxi is late, what is the probability that it belongs to Company A?"
   ]
  },
  {
   "cell_type": "code",
   "execution_count": 1,
   "id": "dad0f74f",
   "metadata": {},
   "outputs": [
    {
     "name": "stdout",
     "output_type": "stream",
     "text": [
      "The probability that a randomly selected taxi, which is late, belongs to Company A: 0.6666666666666666\n"
     ]
    }
   ],
   "source": [
    "Probaility_Late_company_A = 0.05  # Probability of a taxi from Company A being late\n",
    "Probability_company_A = 0.8  # Probability of randomly selecting a taxi from Company A\n",
    "Probability_Late_company_B = 0.1  # Probability of a taxi from Company B being late\n",
    "Probability_company_B = 0.2  # Probability of randomly selecting a taxi from Company B\n",
    "\n",
    "# Calculate the probability of a taxi being late, regardless of the company\n",
    "P_L = Probaility_Late_company_A * Probability_company_A + Probability_Late_company_B * Probability_company_B\n",
    "\n",
    "# Calculate the probability that a randomly selected taxi, which is late, belongs to Company A\n",
    "P_A_given_L = (Probaility_Late_company_A * Probability_company_A) / P_L\n",
    "\n",
    "# Print the result\n",
    "print(\"The probability that a randomly selected taxi, which is late, belongs to Company A:\", P_A_given_L)\n"
   ]
  },
  {
   "cell_type": "code",
   "execution_count": null,
   "id": "c0272221",
   "metadata": {},
   "outputs": [],
   "source": []
  }
 ],
 "metadata": {
  "kernelspec": {
   "display_name": "Python 3 (ipykernel)",
   "language": "python",
   "name": "python3"
  },
  "language_info": {
   "codemirror_mode": {
    "name": "ipython",
    "version": 3
   },
   "file_extension": ".py",
   "mimetype": "text/x-python",
   "name": "python",
   "nbconvert_exporter": "python",
   "pygments_lexer": "ipython3",
   "version": "3.10.9"
  }
 },
 "nbformat": 4,
 "nbformat_minor": 5
}
