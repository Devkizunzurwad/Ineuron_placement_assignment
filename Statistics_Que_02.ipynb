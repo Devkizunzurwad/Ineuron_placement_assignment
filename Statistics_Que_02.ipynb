{
 "cells": [
  {
   "cell_type": "markdown",
   "id": "fbced1e4",
   "metadata": {},
   "source": [
    "Q-2. Consider a dataset containing the heights (in centimeters) of 1000 individuals. The\n",
    "mean height is 170 cm with a standard deviation of 10 cm. The dataset is approximately\n",
    "normally distributed, and its skewness is approximately zero. Based on this information,\n",
    "answer the following questions:"
   ]
  },
  {
   "cell_type": "markdown",
   "id": "92ce5a42",
   "metadata": {},
   "source": [
    " a. What percentage of individuals in the dataset have heights between 160 cm\n",
    "and 180 cm?"
   ]
  },
  {
   "cell_type": "markdown",
   "id": "e94f6af6",
   "metadata": {},
   "source": [
    "The z-score formula is:\n",
    "z = (x - μ) / σ\n",
    "\n",
    "For 160 cm:\n",
    "z1 = (160 - 170) / 10 = -1\n",
    "\n",
    "For 180 cm:\n",
    "z2 = (180 - 170) / 10 = 1"
   ]
  },
  {
   "cell_type": "markdown",
   "id": "cf1f8547",
   "metadata": {},
   "source": [
    "The percentage of individuals with heights between 160 cm and 180 cm is the difference between these two probabilities:\n",
    "Percentage = (0.8413 - 0.1587) * 100% = 68.26%"
   ]
  },
  {
   "cell_type": "code",
   "execution_count": null,
   "id": "b34e1401",
   "metadata": {},
   "outputs": [],
   "source": []
  },
  {
   "cell_type": "markdown",
   "id": "e4e22601",
   "metadata": {},
   "source": [
    "b. If we randomly select 100 individuals from the dataset, what is the probability\n",
    "that their average height is greater than 175 cm?"
   ]
  },
  {
   "cell_type": "markdown",
   "id": "0e9625d2",
   "metadata": {},
   "source": [
    " the probability that the average height of 100 randomly selected individuals is greater than 175 cm,\n",
    "    for this we use Z-Score"
   ]
  },
  {
   "cell_type": "code",
   "execution_count": 19,
   "id": "c7d349c0",
   "metadata": {},
   "outputs": [
    {
     "name": "stdout",
     "output_type": "stream",
     "text": [
      "5.0\n"
     ]
    }
   ],
   "source": [
    "import math \n",
    "z_score= (175 - 170) / (10/math.sqrt(100))\n",
    "print(z_score)"
   ]
  },
  {
   "cell_type": "code",
   "execution_count": 18,
   "id": "9ab124ec",
   "metadata": {},
   "outputs": [
    {
     "name": "stdout",
     "output_type": "stream",
     "text": [
      "0.9999997133484281\n",
      "2.866515719235352e-07\n"
     ]
    }
   ],
   "source": [
    "from scipy.stats import norm\n",
    "\n",
    "print(norm.cdf(5))\n",
    "\n",
    "prob = 1 - norm.cdf(5)\n",
    "print(prob)"
   ]
  },
  {
   "cell_type": "code",
   "execution_count": 17,
   "id": "e8b4584c",
   "metadata": {},
   "outputs": [
    {
     "name": "stdout",
     "output_type": "stream",
     "text": [
      "The probability that the average height of 100 individuals is greater than 175 cm is: 2.866515719235352e-07\n"
     ]
    }
   ],
   "source": [
    "\n",
    "from scipy.stats import norm\n",
    "\n",
    "mean = 170\n",
    "std_dev = 10\n",
    "sample_size = 100\n",
    "\n",
    "desired_mean = 175\n",
    "\n",
    "# Calculate the standard error of the mean\n",
    "std_error = std_dev / (sample_size ** 0.5)\n",
    "\n",
    "# Calculate the z-score for the desired mean\n",
    "z_score = (desired_mean - mean) / std_error\n",
    "\n",
    "# Calculate the probability using the complementary cumulative distribution function (1 - CDF)\n",
    "probability = 1 - norm.cdf(z_score)\n",
    "\n",
    "print(f\"The probability that the average height of 100 individuals is greater than 175 cm is: {probability}\")"
   ]
  },
  {
   "cell_type": "code",
   "execution_count": null,
   "id": "ac2e6ff3",
   "metadata": {},
   "outputs": [],
   "source": []
  },
  {
   "cell_type": "markdown",
   "id": "ac0e1fd2",
   "metadata": {},
   "source": [
    "c. Assuming the dataset follows a normal distribution, what is the z-score\n",
    "corresponding to a height of 185 cm?"
   ]
  },
  {
   "cell_type": "markdown",
   "id": "34d438be",
   "metadata": {},
   "source": [
    "o determine the Z-score corresponding to a height of 185 cm, we can use the mean and standard deviation of the dataset."
   ]
  },
  {
   "cell_type": "code",
   "execution_count": 21,
   "id": "b1bf9df6",
   "metadata": {},
   "outputs": [
    {
     "name": "stdout",
     "output_type": "stream",
     "text": [
      "The Z-score corresponding to a height of 185 cm: {z_score:.2f}\n"
     ]
    }
   ],
   "source": [
    "desired_height = 185\n",
    "mean= 170\n",
    "std_dev=10\n",
    "\n",
    "# Calculate Z-score\n",
    "z_score = (desired_height - mean_height) / std_dev\n",
    "print(\"The Z-score corresponding to a height of 185 cm: {z_score:.2f}\")\n"
   ]
  },
  {
   "cell_type": "code",
   "execution_count": null,
   "id": "3044d8de",
   "metadata": {},
   "outputs": [],
   "source": []
  },
  {
   "cell_type": "markdown",
   "id": "ffbcf592",
   "metadata": {},
   "source": [
    "d. We know that 5% of the dataset has heights below a certain value. What is\n",
    "the approximate height corresponding to this threshold?"
   ]
  },
  {
   "cell_type": "markdown",
   "id": "7a751270",
   "metadata": {},
   "source": [
    "To find the approximate height corresponding to the threshold where 5% of the dataset has heights below it,\n",
    "we can use the inverse of the CDF."
   ]
  },
  {
   "cell_type": "code",
   "execution_count": null,
   "id": "25c2d7d7",
   "metadata": {},
   "outputs": [],
   "source": [
    "import scipy.stats as stats"
   ]
  },
  {
   "cell_type": "code",
   "execution_count": 25,
   "id": "e1083a05",
   "metadata": {},
   "outputs": [
    {
     "name": "stdout",
     "output_type": "stream",
     "text": [
      "The approximate height corresponding to the 5% threshold: 153.55 cm\n"
     ]
    }
   ],
   "source": [
    "desired_height = 185\n",
    "mean_height = 170\n",
    "std_dev = 10\n",
    "\n",
    "threshold = stats.norm.ppf(0.05, mean_height, std_dev)\n",
    "print(\"The approximate height corresponding to the 5% threshold: {threshold:.2f} cm\")\n"
   ]
  },
  {
   "cell_type": "code",
   "execution_count": null,
   "id": "c7bc18da",
   "metadata": {},
   "outputs": [],
   "source": []
  },
  {
   "cell_type": "markdown",
   "id": "5e5d818a",
   "metadata": {},
   "source": [
    "e. Calculate the coefficient of variation (CV) for the dataset."
   ]
  },
  {
   "cell_type": "code",
   "execution_count": 26,
   "id": "9dbe50ca",
   "metadata": {},
   "outputs": [
    {
     "name": "stdout",
     "output_type": "stream",
     "text": [
      "The coefficient of variation (CV) for the dataset: 5.88%\n"
     ]
    }
   ],
   "source": [
    "mean_height = 170\n",
    "std_dev = 10\n",
    "\n",
    "# Calculate the coefficient of variation (CV)\n",
    "cv = (std_dev / mean_height) * 100\n",
    "print(f\"The coefficient of variation (CV) for the dataset: {cv:.2f}%\")\n"
   ]
  },
  {
   "cell_type": "code",
   "execution_count": null,
   "id": "4260b7fe",
   "metadata": {},
   "outputs": [],
   "source": []
  },
  {
   "cell_type": "markdown",
   "id": "1060d910",
   "metadata": {},
   "source": [
    "f. Calculate the skewness of the dataset and interpret the result."
   ]
  },
  {
   "cell_type": "markdown",
   "id": "a98da85f",
   "metadata": {},
   "source": [
    "To calculate skewness of the dataset is -\n",
    "Skewness = (MEan - Median)/(3* standard deviation)\n",
    "Skewness = (170-170)\n",
    "Skeness = 0\n"
   ]
  }
 ],
 "metadata": {
  "kernelspec": {
   "display_name": "Python 3 (ipykernel)",
   "language": "python",
   "name": "python3"
  },
  "language_info": {
   "codemirror_mode": {
    "name": "ipython",
    "version": 3
   },
   "file_extension": ".py",
   "mimetype": "text/x-python",
   "name": "python",
   "nbconvert_exporter": "python",
   "pygments_lexer": "ipython3",
   "version": "3.10.9"
  }
 },
 "nbformat": 4,
 "nbformat_minor": 5
}
