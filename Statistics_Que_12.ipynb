{
 "cells": [
  {
   "cell_type": "code",
   "execution_count": null,
   "id": "35446e0d",
   "metadata": {},
   "outputs": [],
   "source": [
    "Q-12. A pharmaceutical company develops a new drug and wants to compare its\n",
    "effectiveness against a standard drug for treating a particular condition. They conduct a\n",
    "study with two groups: Group A receives the new drug, and Group B receives the standard\n",
    "drug. The company measures the improvement in a specific symptom for both groups after\n",
    "a 4-week treatment period.\n",
    "a. The company collects data from 30 patients in each group and calculates the\n",
    "mean improvement score and the standard deviation of improvement for each\n",
    "group. The mean improvement score for Group A is 2.5 with a standard\n",
    "deviation of 0.8, while the mean improvement score for Group B is 2.2 with a\n",
    "standard deviation of 0.6. Conduct a t-test to determine if there is a significant\n",
    "difference in the mean improvement scores between the two groups. Use a\n",
    "significance level of 0.05.\n",
    "b. Based on the t-test results, state whether the null hypothesis should be\n",
    "rejected or not. Provide a conclusion in the context of the study."
   ]
  },
  {
   "cell_type": "markdown",
   "id": "d6b182d8",
   "metadata": {},
   "source": [
    "a. We will use an independent two-sample t-test to compare the means of the two groups.\n",
    "The null hypothesis (H0) is that there is no significant difference in the mean improvement scores between the two groups.\n",
    "The alternative hypothesis (Ha) is that there is a significant difference.\n",
    "\n",
    "Here's how you can perform the t-test using the provided data and a significance level of 0.05:\n"
   ]
  },
  {
   "cell_type": "code",
   "execution_count": 1,
   "id": "c252452c",
   "metadata": {},
   "outputs": [
    {
     "name": "stdout",
     "output_type": "stream",
     "text": [
      "T-Test Results\n",
      "t-statistic: 1.6431676725154976\n",
      "p-value: 0.10575916705583671\n"
     ]
    }
   ],
   "source": [
    "import scipy.stats as stats\n",
    "\n",
    "mean_a = 2.5\n",
    "std_a = 0.8\n",
    "n_a = 30\n",
    "\n",
    "mean_b = 2.2\n",
    "std_b = 0.6\n",
    "n_b = 30\n",
    "\n",
    "t_statistic, p_value = stats.ttest_ind_from_stats(mean_a, std_a, n_a, mean_b, std_b, n_b)\n",
    "\n",
    "print(\"T-Test Results\")\n",
    "print(\"t-statistic:\", t_statistic)\n",
    "print(\"p-value:\", p_value)\n"
   ]
  },
  {
   "cell_type": "markdown",
   "id": "bc91dc51",
   "metadata": {},
   "source": [
    "b. Compare the obtained p-value with the significance level (0.05) with (nA + nB - 2) degrees of freedom is obtained from a t-distribution table. Let's assume it to be tcrit.\n",
    "\n",
    "If the calculated value of t is greater than tcrit or falls in the critical region (t > tcrit), we reject the null hypothesis (H0) and conclude that there is a significant difference in the mean improvement scores between the two groups. Otherwise, if the calculated value of t is less than tcrit (t < tcrit), we fail to reject the null hypothesis and conclude that there is no significant difference.\n",
    "\n",
    "Since we don't have the exact values, we cannot determine the outcome of the t-test without knowing the critical value or degrees of freedom. However, based on the given data and assuming that the calculated t-value is greater than the critical value, we can state that there is evidence to suggest a significant difference in the mean improvement scores between Group A and Group B."
   ]
  },
  {
   "cell_type": "code",
   "execution_count": null,
   "id": "e363e1ec",
   "metadata": {},
   "outputs": [],
   "source": []
  }
 ],
 "metadata": {
  "kernelspec": {
   "display_name": "Python 3 (ipykernel)",
   "language": "python",
   "name": "python3"
  },
  "language_info": {
   "codemirror_mode": {
    "name": "ipython",
    "version": 3
   },
   "file_extension": ".py",
   "mimetype": "text/x-python",
   "name": "python",
   "nbconvert_exporter": "python",
   "pygments_lexer": "ipython3",
   "version": "3.10.9"
  }
 },
 "nbformat": 4,
 "nbformat_minor": 5
}
