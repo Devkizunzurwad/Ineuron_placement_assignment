{
 "cells": [
  {
   "cell_type": "markdown",
   "id": "39a79ba1",
   "metadata": {},
   "source": [
    "Q-7. The equations of two lines of regression, obtained in a correlation analysis\n",
    "between variables X and Y are as follows:\n",
    "\n",
    "and . 2X + 3 − 8 = 0 2Y + X − 5 = 0 The variance of X = 4 Find the\n",
    "a. Variance of Y\n",
    "b. Coefficient of determination of C and Y\n",
    "c. Standard error of estimate of X on Y and of Y on X."
   ]
  },
  {
   "cell_type": "code",
   "execution_count": null,
   "id": "31ab7477",
   "metadata": {},
   "outputs": [],
   "source": [
    "a. Variance of Y\n",
    "\n",
    "2X + 3 - 8 = 0 --- eq 1\n",
    "2Y + X - 5 = 0 ---- eq 2\n",
    "from eq 2\n",
    "2Y + X - 5 = 0\n",
    "\n",
    "Rearranging the equation: 2Y = -X + 5\n",
    "Dividing both sides by 2: Y = (-1/2)X + 5/2\n",
    "\n",
    "The coefficient of X is (-1/2). Squaring it gives us (1/4).\n",
    "Therefore, Var(Y) = (1/4) * Var(X) = (1/4) * 4 = 1.\n",
    "\n",
    "So, the variance of Y is 1."
   ]
  },
  {
   "cell_type": "markdown",
   "id": "118bfaee",
   "metadata": {},
   "source": [
    "b. Coefficient of determination of C and Y\n",
    "\n",
    "Coefficient of determination (R^2) of X and Y:\n",
    "The coefficient of determination measures the proportion of the variance in the dependent variable (Y) that can be explained by the independent variable (X). It ranges between 0 and 1, where 0 indicates no linear relationship, and 1 indicates a perfect linear relationship.\n",
    "\n",
    "In this case, we need to find the square of the correlation coefficient (r) between X and Y to obtain R^2.\n",
    "\n",
    "From the equations, we can see that:\n",
    "Equation (1): 2X + 3 - 8 = 0\n",
    "Rearranging the equation: X = 5/2\n",
    "\n",
    "Substituting this value of X into equation (2): 2Y + (5/2) - 5 = 0\n",
    "Simplifying the equation: 2Y = 5/2 - 5 = -5/2\n",
    "Dividing both sides by 2: Y = -5/4\n",
    "\n",
    "So, we have one data point (5/2, -5/4) that lies on both lines of regression.\n",
    "\n",
    "Now, we can calculate the correlation coefficient (r) using the formula:\n",
    "r = (Cov(X, Y)) / (sqrt(Var(X)) * sqrt(Var(Y)))\n",
    "\n",
    "Since the covariance (Cov(X, Y)) is not given, we cannot calculate the exact value of R^2 without more information."
   ]
  },
  {
   "cell_type": "markdown",
   "id": "aefbe48a",
   "metadata": {},
   "source": [
    "c. Standard error of estimate of X on Y and of Y on X.\n",
    "\n",
    "To calculate the standard error for X on Y and Y on X, we would need more data points and their corresponding values for X and Y.\n",
    "\n",
    "The standard error of estimate quantifies the average deviation between the predicted values from the regression line and the actual observed values.\n",
    "\n",
    "Without additional data, it is not possible to calculate the standard error of estimate for X on Y and Y on X.\n",
    "\n",
    "Please note that additional information is required to provide a complete analysis of the coefficient of determination and the standard error of estimate for X on Y and Y on X."
   ]
  }
 ],
 "metadata": {
  "kernelspec": {
   "display_name": "Python 3 (ipykernel)",
   "language": "python",
   "name": "python3"
  },
  "language_info": {
   "codemirror_mode": {
    "name": "ipython",
    "version": 3
   },
   "file_extension": ".py",
   "mimetype": "text/x-python",
   "name": "python",
   "nbconvert_exporter": "python",
   "pygments_lexer": "ipython3",
   "version": "3.10.9"
  }
 },
 "nbformat": 4,
 "nbformat_minor": 5
}
