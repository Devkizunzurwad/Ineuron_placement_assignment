{
 "cells": [
  {
   "cell_type": "code",
   "execution_count": null,
   "id": "8beef729",
   "metadata": {},
   "outputs": [],
   "source": [
    "Q9-\n"
   ]
  },
  {
   "cell_type": "markdown",
   "id": "9ebef39e",
   "metadata": {},
   "source": [
    "MEAN Score of each student\n",
    "\n",
    "Name\tMean Score\n",
    "Karan\t89\n",
    "Deepa\t78.33\n",
    "Karthik\t87.67\n",
    "Chandan\t73.33\n",
    "Jeevan\t94.33\n",
    "\n",
    "Step 2: Calculate the overall mean score (grand mean).\n",
    "\n",
    "Grand Mean = (89 + 78.33 + 87.67 + 73.33 + 94.33) / 5 = 84.133\n",
    "\n",
    "Step 3: Calculate the sum of squares within groups (SSW).\n",
    "\n",
    "SSW = Σ (Xi - X̄i)^2\n",
    "\n",
    "For each student: Karan: (85 - 89)^2 + (90 - 89)^2 + (92 - 89)^2 = 18 Deepa: (70 - 78.33)^2 + (80 - 78.33)^2 + (85 - 78.33)^2 = 80.33 Karthik: (90 - 87.67)^2 + (85 - 87.67)^2 + (88 - 87.67)^2 = 4.33 Chandan: (75 - 73.33)^2 + (70 - 73.33)^2 + (75 - 73.33)^2 = 6.67 Jeevan: (95 - 94.33)^2 + (92 - 94.33)^2 + (96 - 94.33)^2 = 4.67\n",
    "\n",
    "SSW = 18 + 80.33 + 4.33 + 6.67 + 4.67 = 114\n",
    "\n",
    "Step 4: Calculate the sum of squares between groups (SSB).\n",
    "\n",
    "SSB = Σ Ni * (X̄i - X̄)^2\n",
    "\n",
    "For each student: Karan: 3 * (89 - 84.133)^2 ≈ 57.296 Deepa: 3 * (78.33 - 84.133)^2 ≈ 65.772 Karthik: 3 * (87.67 - 84.133)^2 ≈ 11.925 Chandan: 3 * (73.33 - 84.133)^2 ≈ 107.659 Jeevan: 3 * (94.33 - 84.133)^2 ≈ 305.859\n",
    "\n",
    "SSB = 57.296 + 65.772 + 11.925 + 107.659 + 305.859 ≈ 548.511\n",
    "Step 5: Calculate the degrees of freedom (df).\n",
    "\n",
    "df between = k - 1 =\n",
    "\n",
    "5 - 1 = 4 (k is the number of groups) df within = N - k = 15 - 5 = 10 (N is the total number of observations)\n",
    "\n",
    "Step 6: Calculate the mean square between (MSB) and the mean square within (MSW).\n",
    "\n",
    "MSB = SSB / df between = 548.511 / 4 ≈ 137.128 MSW = SSW / df within = 114 / 10 ≈ 11.4\n",
    "\n",
    "Step 7: Calculate the F-statistic.\n",
    "\n",
    "F = MSB / MSW = 137.128 / 11.4 ≈ 12.019\n",
    "\n",
    "Step 8: Look up the critical F-value for a significance level (α) of your choice and with df between = 4 and df within = 10. Let's assume α = 0.05.\n",
    "\n",
    "For α = 0.05, the critical F-value is approximately 3.10.\n",
    "\n",
    "Step 9: Compare the calculated F-statistic with the critical F-value.\n",
    "\n",
    "If the calculated F-statistic is greater than the critical F-value, reject the null hypothesis. Otherwise, fail to reject the null hypothesis.\n",
    "\n",
    "In this case, the calculated F-statistic (12.019) is greater than the critical F-value (3.10). Therefore, we reject the null hypothesis"
   ]
  }
 ],
 "metadata": {
  "kernelspec": {
   "display_name": "Python 3 (ipykernel)",
   "language": "python",
   "name": "python3"
  },
  "language_info": {
   "codemirror_mode": {
    "name": "ipython",
    "version": 3
   },
   "file_extension": ".py",
   "mimetype": "text/x-python",
   "name": "python",
   "nbconvert_exporter": "python",
   "pygments_lexer": "ipython3",
   "version": "3.10.9"
  }
 },
 "nbformat": 4,
 "nbformat_minor": 5
}
