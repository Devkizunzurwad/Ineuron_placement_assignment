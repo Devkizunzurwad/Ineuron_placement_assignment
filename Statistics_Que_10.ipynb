{
 "cells": [
  {
   "cell_type": "markdown",
   "id": "85c41830",
   "metadata": {},
   "source": [
    "Q-10. A factory produces light bulbs, and the probability of a bulb being defective is 0.05.\n",
    "The factory produces a large batch of 500 light bulbs.\n",
    "a. What is the probability that exactly 20 bulbs are defective?\n",
    "b. What is the probability that at least 10 bulbs are defective?\n",
    "c. What is the probability that at max 15 bulbs are defective?\n",
    "d. On average, how many defective bulbs would you expect in a batch of 500?\n",
    "\n",
    "We can use the formula for the binomial probability mass function:\n",
    "\n",
    "P(X = k) = C(n, k) * p^k * (1 - p)^(n - k)\n",
    "Where:\n",
    "\n",
    "n is the number of trials (500 bulbs)\n",
    "k is the number of successful outcomes (20 defective bulbs)\n",
    "p is the probability of success (0.05)\n",
    "\n",
    "using this formula we can calculate :\n",
    "\n",
    "a. What is the probability that exactly 20 bulbs are defective?\n",
    "Probability of exactly 20 bulbs are defective:\n",
    "P(X=20) = C(500, 20) * (0.05^20) * (0.95^(500-20))\n",
    "\n",
    "b. What is the probability that at least 10 bulbs are defective?\n",
    "Probability of exactly 10 bulbs are defective:\n",
    "P(X >= 10) = P(X=10) + P(X=11) + ... + P(X=500)\n",
    "\n",
    "c. What is the probability that at max 15 bulbs are defective?\n",
    "probability that at max 15 bulbs are defective is:\n",
    "P(X <= 15) = P(X = 0) + P(X = 1) + P(X = 2) + ... + P(X = 15)\n",
    "\n",
    "d. Expected number of defective bulbs:\n",
    "The expected number of defective bulbs in a binomial distribution is given by the mean, \n",
    "which is equal to n * p.\n",
    "Expected number of defective bulbs = n * p\n"
   ]
  }
 ],
 "metadata": {
  "kernelspec": {
   "display_name": "Python 3 (ipykernel)",
   "language": "python",
   "name": "python3"
  },
  "language_info": {
   "codemirror_mode": {
    "name": "ipython",
    "version": 3
   },
   "file_extension": ".py",
   "mimetype": "text/x-python",
   "name": "python",
   "nbconvert_exporter": "python",
   "pygments_lexer": "ipython3",
   "version": "3.10.9"
  }
 },
 "nbformat": 4,
 "nbformat_minor": 5
}
